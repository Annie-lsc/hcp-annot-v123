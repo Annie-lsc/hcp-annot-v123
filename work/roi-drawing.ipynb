{
 "cells": [
  {
   "cell_type": "code",
   "execution_count": 1,
   "id": "974121b9",
   "metadata": {},
   "outputs": [],
   "source": [
    "import hcpannot"
   ]
  },
  {
   "cell_type": "code",
   "execution_count": 2,
   "id": "9fae2511",
   "metadata": {},
   "outputs": [],
   "source": [
    "%matplotlib widget"
   ]
  },
  {
   "cell_type": "code",
   "execution_count": null,
   "id": "fb635e1d",
   "metadata": {},
   "outputs": [],
   "source": [
    "hcpannot.ROITool(figsize=2)"
   ]
  }
 ],
 "metadata": {
  "kernelspec": {
   "display_name": "Python 3 (ipykernel)",
   "language": "python",
   "name": "python3"
  },
  "language_info": {
   "codemirror_mode": {
    "name": "ipython",
    "version": 3
   },
   "file_extension": ".py",
   "mimetype": "text/x-python",
   "name": "python",
   "nbconvert_exporter": "python",
   "pygments_lexer": "ipython3",
   "version": "3.9.7"
  }
 },
 "nbformat": 4,
 "nbformat_minor": 5
}
