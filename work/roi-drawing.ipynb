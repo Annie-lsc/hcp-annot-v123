{
 "cells": [
  {
   "cell_type": "code",
   "execution_count": null,
   "id": "fe8f8643",
   "metadata": {
    "scrolled": false
   },
   "outputs": [],
   "source": [
    "# This can be increased to make the images of the brains larger\n",
    "# or decreased to make them smaller. If you find that the images\n",
    "# are too big, try decreasing this to 1.0; if they are too small\n",
    "# try 2.0.\n",
    "figsize = 1.5\n",
    "\n",
    "roi = hcpannot.ROITool(figsize=figsize)"
   ]
  }
 ],
 "metadata": {
  "kernelspec": {
   "display_name": "Python 3 (ipykernel)",
   "language": "python",
   "name": "python3"
  },
  "language_info": {
   "codemirror_mode": {
    "name": "ipython",
    "version": 3
   },
   "file_extension": ".py",
   "mimetype": "text/x-python",
   "name": "python",
   "nbconvert_exporter": "python",
   "pygments_lexer": "ipython3",
   "version": "3.9.7"
  }
 },
 "nbformat": 4,
 "nbformat_minor": 5
}
